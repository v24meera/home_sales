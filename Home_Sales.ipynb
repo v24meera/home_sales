{
  "metadata": {
    "kernelspec": {
      "name": "python",
      "display_name": "Python (Pyodide)",
      "language": "python"
    },
    "language_info": {
      "codemirror_mode": {
        "name": "python",
        "version": 3
      },
      "file_extension": ".py",
      "mimetype": "text/x-python",
      "name": "python",
      "nbconvert_exporter": "python",
      "pygments_lexer": "ipython3",
      "version": "3.8"
    },
    "colab": {
      "collapsed_sections": [],
      "name": "Copy of Home_Sales_solution.ipynb",
      "provenance": []
    },
    "nteract": {
      "version": "0.28.0"
    }
  },
  "nbformat_minor": 4,
  "nbformat": 4,
  "cells": [
    {
      "cell_type": "code",
      "source": "# Import findspark and initialize. \nimport findspark\nfindspark.init()",
      "metadata": {
        "colab": {
          "base_uri": "https://localhost:8080/"
        },
        "id": "a_KW73O2e3dw",
        "outputId": "fa5fd2b3-e2de-491b-ee1c-405317ba7ebc",
        "trusted": true
      },
      "outputs": [],
      "execution_count": null
    },
    {
      "cell_type": "code",
      "source": "# Import packages\nfrom pyspark.sql import SparkSession\nimport time\n\n# Create a SparkSession\nspark = SparkSession.builder.appName(\"SparkSQL\").getOrCreate()",
      "metadata": {
        "id": "2XbWNf1Te5fM",
        "trusted": true
      },
      "outputs": [
        {
          "ename": "<class 'ModuleNotFoundError'>",
          "evalue": "No module named 'pyspark'",
          "traceback": [
            "\u001b[0;31m---------------------------------------------------------------------------\u001b[0m",
            "\u001b[0;31mModuleNotFoundError\u001b[0m                       Traceback (most recent call last)",
            "Cell \u001b[0;32mIn[2], line 2\u001b[0m\n\u001b[1;32m      1\u001b[0m \u001b[38;5;66;03m# Import packages\u001b[39;00m\n\u001b[0;32m----> 2\u001b[0m \u001b[38;5;28;01mfrom\u001b[39;00m \u001b[38;5;21;01mpyspark\u001b[39;00m\u001b[38;5;21;01m.\u001b[39;00m\u001b[38;5;21;01msql\u001b[39;00m \u001b[38;5;28;01mimport\u001b[39;00m SparkSession\n\u001b[1;32m      3\u001b[0m \u001b[38;5;28;01mimport\u001b[39;00m \u001b[38;5;21;01mtime\u001b[39;00m\n\u001b[1;32m      5\u001b[0m \u001b[38;5;66;03m# Create a SparkSession\u001b[39;00m\n",
            "\u001b[0;31mModuleNotFoundError\u001b[0m: No module named 'pyspark'"
          ],
          "output_type": "error"
        }
      ],
      "execution_count": 2
    },
    {
      "cell_type": "code",
      "source": "# 1. Read in the AWS S3 bucket into a DataFrame.\nfrom pyspark import SparkFiles\nurl = \"https://2u-data-curriculum-team.s3.amazonaws.com/dataviz-classroom/v1.2/22-big-data/home_sales_revised.csv\"\nspark.sparkContext.addFile(url)\ndf_sales = spark.read.csv(SparkFiles.get(\"home_sales_revised.csv\"), sep=\",\", header=True)\ndf_sales.show(10)",
      "metadata": {
        "colab": {
          "base_uri": "https://localhost:8080/"
        },
        "id": "wOJqxG_RPSwp",
        "outputId": "7857ef9f-5b04-405d-f5aa-e535dfe7870c",
        "trusted": true
      },
      "outputs": [
        {
          "ename": "<class 'ModuleNotFoundError'>",
          "evalue": "No module named 'pyspark'",
          "traceback": [
            "\u001b[0;31m---------------------------------------------------------------------------\u001b[0m",
            "\u001b[0;31mModuleNotFoundError\u001b[0m                       Traceback (most recent call last)",
            "Cell \u001b[0;32mIn[3], line 2\u001b[0m\n\u001b[1;32m      1\u001b[0m \u001b[38;5;66;03m# 1. Read in the AWS S3 bucket into a DataFrame.\u001b[39;00m\n\u001b[0;32m----> 2\u001b[0m \u001b[38;5;28;01mfrom\u001b[39;00m \u001b[38;5;21;01mpyspark\u001b[39;00m \u001b[38;5;28;01mimport\u001b[39;00m SparkFiles\n\u001b[1;32m      3\u001b[0m url \u001b[38;5;241m=\u001b[39m \u001b[38;5;124m\"\u001b[39m\u001b[38;5;124mhttps://2u-data-curriculum-team.s3.amazonaws.com/dataviz-classroom/v1.2/22-big-data/home_sales_revised.csv\u001b[39m\u001b[38;5;124m\"\u001b[39m\n\u001b[1;32m      4\u001b[0m spark\u001b[38;5;241m.\u001b[39msparkContext\u001b[38;5;241m.\u001b[39maddFile(url)\n",
            "\u001b[0;31mModuleNotFoundError\u001b[0m: No module named 'pyspark'"
          ],
          "output_type": "error"
        }
      ],
      "execution_count": 3
    },
    {
      "cell_type": "code",
      "source": "# 2. Create a temporary view of the DataFrame.\ndf_sales.createOrReplaceTempView('home_sales')\n",
      "metadata": {
        "id": "RoljcJ7WPpnm",
        "trusted": true
      },
      "outputs": [
        {
          "ename": "<class 'NameError'>",
          "evalue": "name 'df_sales' is not defined",
          "traceback": [
            "\u001b[0;31m---------------------------------------------------------------------------\u001b[0m",
            "\u001b[0;31mNameError\u001b[0m                                 Traceback (most recent call last)",
            "Cell \u001b[0;32mIn[4], line 2\u001b[0m\n\u001b[1;32m      1\u001b[0m \u001b[38;5;66;03m# 2. Create a temporary view of the DataFrame.\u001b[39;00m\n\u001b[0;32m----> 2\u001b[0m \u001b[43mdf_sales\u001b[49m\u001b[38;5;241m.\u001b[39mcreateOrReplaceTempView(\u001b[38;5;124m'\u001b[39m\u001b[38;5;124mhome_sales\u001b[39m\u001b[38;5;124m'\u001b[39m)\n",
            "\u001b[0;31mNameError\u001b[0m: name 'df_sales' is not defined"
          ],
          "output_type": "error"
        }
      ],
      "execution_count": 4
    },
    {
      "cell_type": "code",
      "source": "# 3. What is the average price for a four bedroom house sold per year, rounded to two decimal places?\nq_3 = \"\"\"\nSELECT \n    YEAR(date) AS year,\n    FORMAT_NUMBER(ROUND(AVG(price), 2), '$#,##0.00') AS average_price\nFROM home_sales\nWHERE bedrooms = 4\nGROUP BY year\nORDER BY year DESC\n\"\"\"\nspark.sql(q_3).show()",
      "metadata": {
        "colab": {
          "base_uri": "https://localhost:8080/"
        },
        "id": "L6fkwOeOmqvq",
        "outputId": "bdded620-79c4-488d-c7a5-91c6799c419e"
      },
      "outputs": [
        {
          "name": "stdout",
          "output_type": "stream",
          "text": [
            "+----+-------------+\n",
            "|year|average_price|\n",
            "+----+-------------+\n",
            "|2022|  $296,363.88|\n",
            "|2021|  $301,819.44|\n",
            "|2020|  $298,353.78|\n",
            "|2019|  $300,263.70|\n",
            "+----+-------------+\n",
            "\n"
          ]
        }
      ],
      "execution_count": 5
    },
    {
      "cell_type": "code",
      "source": "# 4. What is the average price of a home for each year the home was built,\n# that have 3 bedrooms and 3 bathrooms, rounded to two decimal places?\nq_4 = \"\"\"\nSELECT \n    YEAR(date_built) AS year,\n    FORMAT_NUMBER(ROUND(AVG(price), 2), '$#,##0.00') AS average_price\nFROM home_sales\nWHERE bedrooms = 3 AND bathrooms = 3\nGROUP BY year\nORDER BY year \n\"\"\"\nspark.sql(q_4).show()",
      "metadata": {
        "colab": {
          "base_uri": "https://localhost:8080/"
        },
        "id": "l8p_tUS8h8it",
        "outputId": "65806e5f-6262-41c0-ff65-5107464e5c4d"
      },
      "outputs": [
        {
          "name": "stdout",
          "output_type": "stream",
          "text": [
            "+----+-------------+\n",
            "|year|average_price|\n",
            "+----+-------------+\n",
            "|2010|  $292,859.62|\n",
            "|2011|  $291,117.47|\n",
            "|2012|  $293,683.19|\n",
            "|2013|  $295,962.27|\n",
            "|2014|  $290,852.27|\n",
            "|2015|  $288,770.30|\n",
            "|2016|  $290,555.07|\n",
            "|2017|  $292,676.79|\n",
            "+----+-------------+\n",
            "\n"
          ]
        }
      ],
      "execution_count": 6
    },
    {
      "cell_type": "code",
      "source": "# 5. What is the average price of a home for each year the home was built,\n# that have 3 bedrooms, 3 bathrooms, with two floors,\n# and are greater than or equal to 2,000 square feet, rounded to two decimal places?\nq_5 = \"\"\"\nSELECT \n    YEAR(date_built) AS year,\n    FORMAT_NUMBER(ROUND(AVG(price), 2), '$#,##0.00') AS average_price\nFROM home_sales\nWHERE bedrooms = 3 AND bathrooms = 3\nAND floors = 2 AND sqft_living >= 2000\nGROUP BY year\nORDER BY year \n\"\"\"\nspark.sql(q_5).show()\n",
      "metadata": {
        "colab": {
          "base_uri": "https://localhost:8080/"
        },
        "id": "Y-Eytz64liDU",
        "outputId": "17119810-56ad-40c3-de5e-c3db57e43bcc"
      },
      "outputs": [
        {
          "name": "stdout",
          "output_type": "stream",
          "text": [
            "+----+-------------+\n",
            "|year|average_price|\n",
            "+----+-------------+\n",
            "|2010|  $285,010.22|\n",
            "|2011|  $276,553.81|\n",
            "|2012|  $307,539.97|\n",
            "|2013|  $303,676.79|\n",
            "|2014|  $298,264.72|\n",
            "|2015|  $297,609.97|\n",
            "|2016|  $293,965.10|\n",
            "|2017|  $280,317.58|\n",
            "+----+-------------+\n",
            "\n"
          ]
        }
      ],
      "execution_count": 7
    },
    {
      "cell_type": "code",
      "source": "# 6. What is the average price of a home per \"view\" rating, rounded to two decimal places,\n# having an average home price greater than or equal to $350,000? Order by descending view rating. \n# Although this is a small dataset, determine the run time for this query.\n\nstart_time = time.time()\nq_6 = \"\"\"\nSELECT \n    view,\n    FORMAT_NUMBER(ROUND(AVG(price), 2), '$#,##0.00') AS average_price\nFROM home_sales\nGROUP BY view\nHAVING AVG(price) >= 350000\nORDER BY view DESC \n\"\"\"\nspark.sql(q_6).show(10)\n\ntime_uncached = (time.time() - start_time)\n\nprint(\"--- %s seconds ---\" % time_uncached)",
      "metadata": {
        "colab": {
          "base_uri": "https://localhost:8080/"
        },
        "id": "GUrfgOX1pCRd",
        "outputId": "17c25774-855e-4290-a4bd-a04902bdc13a"
      },
      "outputs": [
        {
          "name": "stdout",
          "output_type": "stream",
          "text": [
            "+----+-------------+\n",
            "|view|average_price|\n",
            "+----+-------------+\n",
            "|  99|$1,061,201.42|\n",
            "|  98|$1,053,739.33|\n",
            "|  97|$1,129,040.15|\n",
            "|  96|$1,017,815.92|\n",
            "|  95|$1,054,325.60|\n",
            "|  94|$1,033,536.20|\n",
            "|  93|$1,026,006.06|\n",
            "|  92|  $970,402.55|\n",
            "|  91|$1,137,372.73|\n",
            "|  90|$1,062,654.16|\n",
            "+----+-------------+\n",
            "only showing top 10 rows\n",
            "\n",
            "--- 0.42646312713623047 seconds ---\n"
          ]
        }
      ],
      "execution_count": 8
    },
    {
      "cell_type": "code",
      "source": "# 7. Cache the the temporary table home_sales.\nspark.sql('cache table home_sales')",
      "metadata": {
        "colab": {
          "base_uri": "https://localhost:8080/"
        },
        "id": "KAhk3ZD2tFy8",
        "outputId": "0a8f132d-40a8-4bd4-b5f2-2847e98427f5"
      },
      "outputs": [
        {
          "data": {
            "text/plain": [
              "DataFrame[]"
            ]
          },
          "execution_count": 9,
          "metadata": {},
          "output_type": "execute_result"
        }
      ],
      "execution_count": 9
    },
    {
      "cell_type": "code",
      "source": "# 8. Check if the table is cached.\nspark.catalog.isCached('home_sales')",
      "metadata": {
        "colab": {
          "base_uri": "https://localhost:8080/"
        },
        "id": "4opVhbvxtL-i",
        "outputId": "38ec8487-795f-4550-b50c-fcc6f2b7c769"
      },
      "outputs": [
        {
          "data": {
            "text/plain": [
              "True"
            ]
          },
          "execution_count": 10,
          "metadata": {},
          "output_type": "execute_result"
        }
      ],
      "execution_count": 10
    },
    {
      "cell_type": "code",
      "source": "# 9. Using the cached data, run the last query above, that calculates \n# the average price of a home per \"view\" rating, rounded to two decimal places,\n# having an average home price greater than or equal to $350,000. \n# Determine the runtime and compare it to the uncached runtime.\n\nstart_time = time.time()\n\nspark.sql(q_6).show(10)\n\ntime_cached = (time.time() - start_time)\n\nprint(\"unCached--- %s seconds ---\" % time_uncached)\nprint(\"Cached--- %s seconds ---\" % time_cached)\nprint(\"Delta between--- %s seconds ---\" % (time_uncached - time_cached))\n",
      "metadata": {
        "colab": {
          "base_uri": "https://localhost:8080/"
        },
        "id": "5GnL46lwTSEk",
        "outputId": "09a16c73-194d-4371-95d1-ee64fe83b91c"
      },
      "outputs": [
        {
          "name": "stdout",
          "output_type": "stream",
          "text": [
            "+----+-------------+\n",
            "|view|average_price|\n",
            "+----+-------------+\n",
            "|  99|$1,061,201.42|\n",
            "|  98|$1,053,739.33|\n",
            "|  97|$1,129,040.15|\n",
            "|  96|$1,017,815.92|\n",
            "|  95|$1,054,325.60|\n",
            "|  94|$1,033,536.20|\n",
            "|  93|$1,026,006.06|\n",
            "|  92|  $970,402.55|\n",
            "|  91|$1,137,372.73|\n",
            "|  90|$1,062,654.16|\n",
            "+----+-------------+\n",
            "only showing top 10 rows\n",
            "\n",
            "unCached--- 0.42646312713623047 seconds ---\n",
            "Cached--- 0.26602983474731445 seconds ---\n",
            "Delta between--- 0.16043329238891602 seconds ---\n"
          ]
        }
      ],
      "execution_count": 11
    },
    {
      "cell_type": "code",
      "source": "# 12. Create a temporary table for the parquet data.\np_df_sales.createOrReplaceTempView('p_sales')",
      "metadata": {
        "id": "J6MJkHfvVcvh"
      },
      "outputs": [
        {
          "ename": "NameError",
          "evalue": "name 'p_df_sales' is not defined",
          "output_type": "error",
          "traceback": [
            "\u001b[1;31m---------------------------------------------------------------------------\u001b[0m",
            "\u001b[1;31mNameError\u001b[0m                                 Traceback (most recent call last)",
            "Cell \u001b[1;32mIn[14], line 2\u001b[0m\n\u001b[0;32m      1\u001b[0m \u001b[38;5;66;03m# 12. Create a temporary table for the parquet data.\u001b[39;00m\n\u001b[1;32m----> 2\u001b[0m p_df_sales\u001b[38;5;241m.\u001b[39mcreateOrReplaceTempView(\u001b[38;5;124m'\u001b[39m\u001b[38;5;124mp_sales\u001b[39m\u001b[38;5;124m'\u001b[39m)\n",
            "\u001b[1;31mNameError\u001b[0m: name 'p_df_sales' is not defined"
          ]
        }
      ],
      "execution_count": 14
    },
    {
      "cell_type": "code",
      "source": "# 13. Using the parquet DataFrame, run the last query above, that calculates \n# the average price of a home per \"view\" rating, rounded to two decimal places,\n# having an average home price greater than or equal to $350,000. \n# Determine the runtime and compare it to the cached runtime.\n\nstart_time = time.time()\n\nq_13 = \"\"\"\nSELECT \n    view,\n    FORMAT_NUMBER(ROUND(AVG(price), 2), '$#,##0.00') AS average_price\nFROM home_sales\nGROUP BY view\nHAVING AVG(price) >= 350000\nORDER BY view DESC \n\"\"\"\n##############################################################################\n################################### ALERT* ###################################\n### would use FROM p_sales if I wasn't running into a hadoop parquet issue ###\n##############################################################################\nspark.sql(q_13).show(10)\n\ntime_parqed = (time.time() - start_time)\n\nprint(\"unCached--- %s seconds ---\" % time_uncached)\nprint(\"Cached--- %s seconds ---\" % time_cached)\nprint(\"Parqed*--- %s seconds ---\" % time_parqed)\nprint(\"Delta between C&P*--- %s seconds ---\" % (time_cached - time_parqed))",
      "metadata": {
        "colab": {
          "base_uri": "https://localhost:8080/"
        },
        "id": "G_Vhb52rU1Sn",
        "outputId": "a0b8d0c4-55ed-4c6c-bfd8-4c8c5334838e"
      },
      "outputs": [
        {
          "name": "stdout",
          "output_type": "stream",
          "text": [
            "+----+-------------+\n",
            "|view|average_price|\n",
            "+----+-------------+\n",
            "|  99|$1,061,201.42|\n",
            "|  98|$1,053,739.33|\n",
            "|  97|$1,129,040.15|\n",
            "|  96|$1,017,815.92|\n",
            "|  95|$1,054,325.60|\n",
            "|  94|$1,033,536.20|\n",
            "|  93|$1,026,006.06|\n",
            "|  92|  $970,402.55|\n",
            "|  91|$1,137,372.73|\n",
            "|  90|$1,062,654.16|\n",
            "+----+-------------+\n",
            "only showing top 10 rows\n",
            "\n",
            "unCached--- 0.42646312713623047 seconds ---\n",
            "Cached--- 0.26602983474731445 seconds ---\n",
            "Parqed*--- 0.2599978446960449 seconds ---\n",
            "Delta between C&P*--- 0.006031990051269531 seconds ---\n"
          ]
        }
      ],
      "execution_count": 15
    },
    {
      "cell_type": "code",
      "source": "# 14. Uncache the home_sales temporary table.\nspark.sql('uncache table home_sales')",
      "metadata": {
        "colab": {
          "base_uri": "https://localhost:8080/"
        },
        "id": "hjjYzQGjtbq8",
        "outputId": "830549fd-bb41-451b-9183-5ebf6e3e470b"
      },
      "outputs": [
        {
          "data": {
            "text/plain": [
              "DataFrame[]"
            ]
          },
          "execution_count": 16,
          "metadata": {},
          "output_type": "execute_result"
        }
      ],
      "execution_count": 16
    },
    {
      "cell_type": "code",
      "source": "# 15. Check if the home_sales is no longer cached\n\nspark.catalog.isCached(\"home_sales\")",
      "metadata": {
        "colab": {
          "base_uri": "https://localhost:8080/"
        },
        "id": "Sy9NBvO7tlmm",
        "outputId": "be73e0e3-5e85-4794-aad9-025fb6fa84a7"
      },
      "outputs": [
        {
          "data": {
            "text/plain": [
              "False"
            ]
          },
          "execution_count": 17,
          "metadata": {},
          "output_type": "execute_result"
        }
      ],
      "execution_count": 17
    },
    {
      "cell_type": "code",
      "source": "",
      "metadata": {},
      "outputs": [],
      "execution_count": null
    }
  ]
}